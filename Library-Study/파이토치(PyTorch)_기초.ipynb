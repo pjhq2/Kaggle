{
  "nbformat": 4,
  "nbformat_minor": 0,
  "metadata": {
    "colab": {
      "name": "파이토치(PyTorch) 기초",
      "provenance": [],
      "collapsed_sections": [],
      "toc_visible": true
    },
    "kernelspec": {
      "name": "python3",
      "display_name": "Python 3"
    },
    "language_info": {
      "name": "python"
    },
    "accelerator": "GPU"
  },
  "cells": [
    {
      "cell_type": "markdown",
      "metadata": {
        "id": "lX9ImiUrVjtS"
      },
      "source": [
        "# 파이토치(PyTorch)"
      ]
    },
    {
      "cell_type": "markdown",
      "metadata": {
        "id": "nOanXBSAVpTU"
      },
      "source": [
        "## 파이토치의 구성요소\n",
        "- `torch`: 텐서를 생성하는 라이브러리\n",
        "- `torch.autograd`: 자동미분 기능을 제공하는 라이브러리\n",
        "- `torch.nn`: 신경망을 생성하는 라이브러리\n",
        "- `torch.multiprocessing`: 병렬처리 기능을 제공하는 라이브러리\n",
        "- `torch.utils`: 데이터 조작 등 유틸리티 기능 제공\n",
        "- `torch.legacy`(./nn/.optim): Torch로부터 포팅해온 코드\n",
        "- `torch.onnx`: ONNX(Open Neural Network Exchange)\n",
        "    - 서로 다른 프레임워크 간의 모델을 공유할 때 사용"
      ]
    },
    {
      "cell_type": "markdown",
      "metadata": {
        "id": "DmgXbHzzWyld"
      },
      "source": [
        "## 텐서(Tensors)\n",
        "- 넘파이(Numpy)의 ndarray와 유사\n",
        "- GPU를 사용한 연산 가속도 가"
      ]
    },
    {
      "cell_type": "code",
      "metadata": {
        "id": "DE5B5v1QW6bc"
      },
      "source": [
        "import torch"
      ],
      "execution_count": null,
      "outputs": []
    },
    {
      "cell_type": "code",
      "metadata": {
        "colab": {
          "base_uri": "https://localhost:8080/",
          "height": 35
        },
        "id": "Q9zLIsycW6uE",
        "outputId": "e982f326-00df-4e91-ca1b-938b87bd9fbb"
      },
      "source": [
        "torch.__version__"
      ],
      "execution_count": null,
      "outputs": [
        {
          "output_type": "execute_result",
          "data": {
            "application/vnd.google.colaboratory.intrinsic+json": {
              "type": "string"
            },
            "text/plain": [
              "'1.9.0+cu102'"
            ]
          },
          "metadata": {},
          "execution_count": 2
        }
      ]
    },
    {
      "cell_type": "markdown",
      "metadata": {
        "id": "0JLtrvd1XAFo"
      },
      "source": [
        "### 초기화 되지 않은 행렬"
      ]
    },
    {
      "cell_type": "code",
      "metadata": {
        "colab": {
          "base_uri": "https://localhost:8080/"
        },
        "id": "64FRtYGUW6xE",
        "outputId": "32a11a4c-2259-4ef3-a88c-62dd6311aff7"
      },
      "source": [
        "x = torch.empty(4, 2)\n",
        "print(x)"
      ],
      "execution_count": null,
      "outputs": [
        {
          "output_type": "stream",
          "name": "stdout",
          "text": [
            "tensor([[-3.3642e-08,  3.0948e-41],\n",
            "        [ 3.3631e-44,  0.0000e+00],\n",
            "        [        nan,  6.4460e-44],\n",
            "        [ 1.1578e+27,  1.1362e+30]])\n"
          ]
        }
      ]
    },
    {
      "cell_type": "markdown",
      "metadata": {
        "id": "AcH6E2EbXGjs"
      },
      "source": [
        "### 무작위로 초기화된 행렬"
      ]
    },
    {
      "cell_type": "code",
      "metadata": {
        "colab": {
          "base_uri": "https://localhost:8080/"
        },
        "id": "X1XEgp8EW60h",
        "outputId": "a75b10a0-add0-48d2-b94c-532084c89e52"
      },
      "source": [
        "x = torch.rand(4, 2)\n",
        "print(x)"
      ],
      "execution_count": null,
      "outputs": [
        {
          "output_type": "stream",
          "name": "stdout",
          "text": [
            "tensor([[0.3968, 0.5963],\n",
            "        [0.8655, 0.3621],\n",
            "        [0.1989, 0.2185],\n",
            "        [0.9455, 0.2194]])\n"
          ]
        }
      ]
    },
    {
      "cell_type": "markdown",
      "metadata": {
        "id": "vkgLDwTOXVvW"
      },
      "source": [
        "### dtype이 long, 0으로 채워진 텐서"
      ]
    },
    {
      "cell_type": "code",
      "metadata": {
        "colab": {
          "base_uri": "https://localhost:8080/"
        },
        "id": "JBX89uSnXK_8",
        "outputId": "ad84a289-17ad-40d7-9e2d-6da6bf6f2431"
      },
      "source": [
        "x = torch.zeros(4, 2, dtype=torch.long)\n",
        "print(x)"
      ],
      "execution_count": null,
      "outputs": [
        {
          "output_type": "stream",
          "name": "stdout",
          "text": [
            "tensor([[0, 0],\n",
            "        [0, 0],\n",
            "        [0, 0],\n",
            "        [0, 0]])\n"
          ]
        }
      ]
    },
    {
      "cell_type": "code",
      "metadata": {
        "colab": {
          "base_uri": "https://localhost:8080/"
        },
        "id": "qYS8P1DFW1E0",
        "outputId": "d40ff184-bc93-4b59-8a71-a96a9e048627"
      },
      "source": [
        "x = torch.tensor([3, 2.3])\n",
        "print(x)"
      ],
      "execution_count": null,
      "outputs": [
        {
          "output_type": "stream",
          "name": "stdout",
          "text": [
            "tensor([3.0000, 2.3000])\n"
          ]
        }
      ]
    },
    {
      "cell_type": "code",
      "metadata": {
        "colab": {
          "base_uri": "https://localhost:8080/"
        },
        "id": "lTM0gLbHXc-F",
        "outputId": "07ad7c1e-ac3e-42d6-c879-d3c759c2675a"
      },
      "source": [
        "x = x.new_ones(2, 4, dtype=torch.double)\n",
        "print(x)"
      ],
      "execution_count": null,
      "outputs": [
        {
          "output_type": "stream",
          "name": "stdout",
          "text": [
            "tensor([[1., 1., 1., 1.],\n",
            "        [1., 1., 1., 1.]], dtype=torch.float64)\n"
          ]
        }
      ]
    },
    {
      "cell_type": "code",
      "metadata": {
        "colab": {
          "base_uri": "https://localhost:8080/"
        },
        "id": "iaxZuWbYXdCF",
        "outputId": "e1c86888-8f23-4698-942a-f37b8fb8f1a4"
      },
      "source": [
        "x = torch.randn_like(x, dtype=torch.float)\n",
        "print(x)"
      ],
      "execution_count": null,
      "outputs": [
        {
          "output_type": "stream",
          "name": "stdout",
          "text": [
            "tensor([[-1.1085,  1.3684, -0.2359, -0.6701],\n",
            "        [ 0.1358,  0.6955,  1.4884,  1.3300]])\n"
          ]
        }
      ]
    },
    {
      "cell_type": "markdown",
      "metadata": {
        "id": "uOhLF4_iYAP2"
      },
      "source": [
        "### 텐서의 크기"
      ]
    },
    {
      "cell_type": "code",
      "metadata": {
        "colab": {
          "base_uri": "https://localhost:8080/"
        },
        "id": "PRB0bCNXXdE8",
        "outputId": "a9cc94f4-99de-4926-9745-c68eee494693"
      },
      "source": [
        "print(x.size())"
      ],
      "execution_count": null,
      "outputs": [
        {
          "output_type": "stream",
          "name": "stdout",
          "text": [
            "torch.Size([2, 4])\n"
          ]
        }
      ]
    },
    {
      "cell_type": "markdown",
      "metadata": {
        "id": "E6dt1QKFYDG9"
      },
      "source": [
        "### 텐서의 연산(operations)"
      ]
    },
    {
      "cell_type": "markdown",
      "metadata": {
        "id": "yxENEDDPYGx6"
      },
      "source": [
        "#### 덧셈1"
      ]
    },
    {
      "cell_type": "code",
      "metadata": {
        "colab": {
          "base_uri": "https://localhost:8080/"
        },
        "id": "cpmT8ffvXdHs",
        "outputId": "bc504fc1-2389-410b-c0b0-681b81c8ef4d"
      },
      "source": [
        "print(x)"
      ],
      "execution_count": null,
      "outputs": [
        {
          "output_type": "stream",
          "name": "stdout",
          "text": [
            "tensor([[-1.1085,  1.3684, -0.2359, -0.6701],\n",
            "        [ 0.1358,  0.6955,  1.4884,  1.3300]])\n"
          ]
        }
      ]
    },
    {
      "cell_type": "code",
      "metadata": {
        "colab": {
          "base_uri": "https://localhost:8080/"
        },
        "id": "doCw3vYBXdKd",
        "outputId": "4ded1353-e288-4584-fcca-1714125e8a6f"
      },
      "source": [
        "y = torch.rand(2, 4)\n",
        "print(y)\n",
        "print(x + y)"
      ],
      "execution_count": null,
      "outputs": [
        {
          "output_type": "stream",
          "name": "stdout",
          "text": [
            "tensor([[0.8936, 0.7196, 0.1018, 0.7896],\n",
            "        [0.9148, 0.3923, 0.5982, 0.3648]])\n",
            "tensor([[-0.2150,  2.0880, -0.1342,  0.1196],\n",
            "        [ 1.0506,  1.0879,  2.0865,  1.6948]])\n"
          ]
        }
      ]
    },
    {
      "cell_type": "markdown",
      "metadata": {
        "id": "814SfNJoYOyh"
      },
      "source": [
        "#### 덧셈2"
      ]
    },
    {
      "cell_type": "code",
      "metadata": {
        "colab": {
          "base_uri": "https://localhost:8080/"
        },
        "id": "vSQ73L_nXdNt",
        "outputId": "64e2ae02-2d9d-4e5f-f9a3-0f5ced705b3f"
      },
      "source": [
        "print(torch.add(x, y))"
      ],
      "execution_count": null,
      "outputs": [
        {
          "output_type": "stream",
          "name": "stdout",
          "text": [
            "tensor([[-0.2150,  2.0880, -0.1342,  0.1196],\n",
            "        [ 1.0506,  1.0879,  2.0865,  1.6948]])\n"
          ]
        }
      ]
    },
    {
      "cell_type": "markdown",
      "metadata": {
        "id": "Bi8WVW5jYYqD"
      },
      "source": [
        "#### 덧셈3\n",
        "- 결과 텐서를 인자로 제공"
      ]
    },
    {
      "cell_type": "code",
      "metadata": {
        "colab": {
          "base_uri": "https://localhost:8080/"
        },
        "id": "b1OngXacXdQ0",
        "outputId": "f692a18f-5a36-4039-befd-0747263a6b4a"
      },
      "source": [
        "result = torch.empty(2, 4)\n",
        "torch.add(x, y, out=result)\n",
        "print(result)"
      ],
      "execution_count": null,
      "outputs": [
        {
          "output_type": "stream",
          "name": "stdout",
          "text": [
            "tensor([[-0.2150,  2.0880, -0.1342,  0.1196],\n",
            "        [ 1.0506,  1.0879,  2.0865,  1.6948]])\n"
          ]
        }
      ]
    },
    {
      "cell_type": "markdown",
      "metadata": {
        "id": "LMJ62qYYYhnd"
      },
      "source": [
        "#### 덧셈4\n",
        "- `in-place` 방식\n",
        "- (참고) in-place 방식\n",
        "    - in-place 방식으로 텐서의 값을 변경하는 연산 뒤에는 _\"가 붙음\n",
        "    - `x.copy_(y), x.t_()`"
      ]
    },
    {
      "cell_type": "code",
      "metadata": {
        "colab": {
          "base_uri": "https://localhost:8080/"
        },
        "id": "dV34iI0RWJmT",
        "outputId": "93c68326-d397-4423-9545-8c1a4654cfe8"
      },
      "source": [
        "print(x)\n",
        "print(y)\n",
        "y.add_(x)  # y += x\n",
        "print(y)"
      ],
      "execution_count": null,
      "outputs": [
        {
          "output_type": "stream",
          "name": "stdout",
          "text": [
            "tensor([[-1.1085,  1.3684, -0.2359, -0.6701],\n",
            "        [ 0.1358,  0.6955,  1.4884,  1.3300]])\n",
            "tensor([[0.8936, 0.7196, 0.1018, 0.7896],\n",
            "        [0.9148, 0.3923, 0.5982, 0.3648]])\n",
            "tensor([[-0.2150,  2.0880, -0.1342,  0.1196],\n",
            "        [ 1.0506,  1.0879,  2.0865,  1.6948]])\n"
          ]
        }
      ]
    },
    {
      "cell_type": "markdown",
      "metadata": {
        "id": "Wwo-oKhWY390"
      },
      "source": [
        "#### 그 외의 연산\n",
        "- `torch.sub`: 뺄셈\n",
        "- `torch.mul`: 곱셈\n",
        "- `torch.div`: 나눗셈\n",
        "- `torch.mm`: 내적(dot product)"
      ]
    },
    {
      "cell_type": "code",
      "metadata": {
        "colab": {
          "base_uri": "https://localhost:8080/"
        },
        "id": "fMZlhZJnY5ZV",
        "outputId": "bde3c534-3d94-4112-d106-6df38c822141"
      },
      "source": [
        "x = torch.Tensor([[1, 3],\n",
        "                  [5, 7]])\n",
        "y = torch.Tensor([[2, 4],\n",
        "                  [6, 8]])\n",
        "print(x - y)\n",
        "print(torch.sub(x, y))\n",
        "print(x.sub(y))"
      ],
      "execution_count": null,
      "outputs": [
        {
          "output_type": "stream",
          "name": "stdout",
          "text": [
            "tensor([[-1., -1.],\n",
            "        [-1., -1.]])\n",
            "tensor([[-1., -1.],\n",
            "        [-1., -1.]])\n",
            "tensor([[-1., -1.],\n",
            "        [-1., -1.]])\n"
          ]
        }
      ]
    },
    {
      "cell_type": "code",
      "metadata": {
        "colab": {
          "base_uri": "https://localhost:8080/"
        },
        "id": "ygAS3K_iZSVN",
        "outputId": "7038c81d-2c90-4dc0-bf18-7ccb70f1a4f9"
      },
      "source": [
        "x = torch.Tensor([[1, 3],\n",
        "                  [5, 7]])\n",
        "y = torch.Tensor([[2, 4],\n",
        "                  [6, 8]])\n",
        "print(x * y)\n",
        "print(torch.mul(x, y))\n",
        "print(x.mul(y))"
      ],
      "execution_count": null,
      "outputs": [
        {
          "output_type": "stream",
          "name": "stdout",
          "text": [
            "tensor([[ 2., 12.],\n",
            "        [30., 56.]])\n",
            "tensor([[ 2., 12.],\n",
            "        [30., 56.]])\n",
            "tensor([[ 2., 12.],\n",
            "        [30., 56.]])\n"
          ]
        }
      ]
    },
    {
      "cell_type": "code",
      "metadata": {
        "colab": {
          "base_uri": "https://localhost:8080/"
        },
        "id": "3QBBd5qjZSat",
        "outputId": "a7fc02de-66ad-45a9-9ce7-21d94c3b0f3f"
      },
      "source": [
        "x = torch.Tensor([[1, 3],\n",
        "                  [5, 7]])\n",
        "y = torch.Tensor([[2, 4],\n",
        "                  [6, 8]])\n",
        "print(x / y)\n",
        "print(torch.div(x, y))\n",
        "print(x.div(y))"
      ],
      "execution_count": null,
      "outputs": [
        {
          "output_type": "stream",
          "name": "stdout",
          "text": [
            "tensor([[0.5000, 0.7500],\n",
            "        [0.8333, 0.8750]])\n",
            "tensor([[0.5000, 0.7500],\n",
            "        [0.8333, 0.8750]])\n",
            "tensor([[0.5000, 0.7500],\n",
            "        [0.8333, 0.8750]])\n"
          ]
        }
      ]
    },
    {
      "cell_type": "code",
      "metadata": {
        "colab": {
          "base_uri": "https://localhost:8080/"
        },
        "id": "2TeKk5flZSeO",
        "outputId": "1001320a-c3f2-4d4c-c75d-5c540e841ba4"
      },
      "source": [
        "x = torch.Tensor([[1, 3],\n",
        "                  [5, 7]])\n",
        "y = torch.Tensor([[2, 4],\n",
        "                  [6, 8]])\n",
        "print(torch.mm(x, y))"
      ],
      "execution_count": null,
      "outputs": [
        {
          "output_type": "stream",
          "name": "stdout",
          "text": [
            "tensor([[20., 28.],\n",
            "        [52., 76.]])\n"
          ]
        }
      ]
    },
    {
      "cell_type": "markdown",
      "metadata": {
        "id": "u2CtYDNLZ8bC"
      },
      "source": [
        "### 텐서의 조작"
      ]
    },
    {
      "cell_type": "markdown",
      "metadata": {
        "id": "emdsD2vIaCEs"
      },
      "source": [
        "#### 인덱싱\n",
        "- 넘파이처럼 인덱싱 사용가능"
      ]
    },
    {
      "cell_type": "code",
      "metadata": {
        "colab": {
          "base_uri": "https://localhost:8080/"
        },
        "id": "wd7_TQVkZShN",
        "outputId": "4b7079b4-e088-4dd6-a94f-5c4aef42696c"
      },
      "source": [
        "print(x)"
      ],
      "execution_count": null,
      "outputs": [
        {
          "output_type": "stream",
          "name": "stdout",
          "text": [
            "tensor([[1., 3.],\n",
            "        [5., 7.]])\n"
          ]
        }
      ]
    },
    {
      "cell_type": "code",
      "metadata": {
        "colab": {
          "base_uri": "https://localhost:8080/"
        },
        "id": "VEq4NBVFZSj-",
        "outputId": "de8c8d0f-9beb-46b1-b067-3fbf09ae8fd0"
      },
      "source": [
        "print(x[:, 1])"
      ],
      "execution_count": null,
      "outputs": [
        {
          "output_type": "stream",
          "name": "stdout",
          "text": [
            "tensor([3., 7.])\n"
          ]
        }
      ]
    },
    {
      "cell_type": "markdown",
      "metadata": {
        "id": "BDClWq8faG0l"
      },
      "source": [
        "#### view\n",
        "- 텐서의 크기(size)나 모양(shape(을 변경"
      ]
    },
    {
      "cell_type": "code",
      "metadata": {
        "colab": {
          "base_uri": "https://localhost:8080/"
        },
        "id": "4bI4GKWDZSmt",
        "outputId": "dc9830aa-a95b-4e4b-8598-729ade0727d1"
      },
      "source": [
        "x = torch.randn(4, 5)\n",
        "y = x.view(20)\n",
        "z = x.view(5, -1)\n",
        "\n",
        "print(x)\n",
        "print(y)\n",
        "print(z)"
      ],
      "execution_count": null,
      "outputs": [
        {
          "output_type": "stream",
          "name": "stdout",
          "text": [
            "tensor([[-0.0870, -0.6358, -0.9602, -0.3054,  0.2436],\n",
            "        [ 0.4682, -0.2828,  0.2224, -0.1493, -0.8952],\n",
            "        [ 0.4196,  0.0883,  0.3394, -0.4463,  0.8229],\n",
            "        [-0.4553,  0.3441,  0.7871,  1.2921, -0.1862]])\n",
            "tensor([-0.0870, -0.6358, -0.9602, -0.3054,  0.2436,  0.4682, -0.2828,  0.2224,\n",
            "        -0.1493, -0.8952,  0.4196,  0.0883,  0.3394, -0.4463,  0.8229, -0.4553,\n",
            "         0.3441,  0.7871,  1.2921, -0.1862])\n",
            "tensor([[-0.0870, -0.6358, -0.9602, -0.3054],\n",
            "        [ 0.2436,  0.4682, -0.2828,  0.2224],\n",
            "        [-0.1493, -0.8952,  0.4196,  0.0883],\n",
            "        [ 0.3394, -0.4463,  0.8229, -0.4553],\n",
            "        [ 0.3441,  0.7871,  1.2921, -0.1862]])\n"
          ]
        }
      ]
    },
    {
      "cell_type": "markdown",
      "metadata": {
        "id": "lP4PwnJtahab"
      },
      "source": [
        "#### item\n",
        "- 텐서에 값이 단 하나라도 존재하면 숫자값을 얻을 수 있음"
      ]
    },
    {
      "cell_type": "code",
      "metadata": {
        "colab": {
          "base_uri": "https://localhost:8080/"
        },
        "id": "gK1JqYQhZSpl",
        "outputId": "69b35d7a-30ac-4fb4-974d-627c0df472bb"
      },
      "source": [
        "x = torch.randn(1)\n",
        "print(x)\n",
        "print(x.item())\n",
        "print(x.dtype)"
      ],
      "execution_count": null,
      "outputs": [
        {
          "output_type": "stream",
          "name": "stdout",
          "text": [
            "tensor([-0.3639])\n",
            "-0.36385467648506165\n",
            "torch.float32\n"
          ]
        }
      ]
    },
    {
      "cell_type": "markdown",
      "metadata": {
        "id": "7HNdXd6qbCB0"
      },
      "source": [
        "- 스칼라값 하나만 존재해야함"
      ]
    },
    {
      "cell_type": "code",
      "metadata": {
        "colab": {
          "base_uri": "https://localhost:8080/",
          "height": 244
        },
        "id": "b1Usz2-aZSvu",
        "outputId": "a989525c-8d87-4278-92ef-2e8ac66bc7b7"
      },
      "source": [
        "x = torch.randn(2)\n",
        "print(x)\n",
        "print(x.item())\n",
        "print(x.dtype)"
      ],
      "execution_count": null,
      "outputs": [
        {
          "output_type": "stream",
          "name": "stdout",
          "text": [
            "tensor([0.5736, 0.1307])\n"
          ]
        },
        {
          "output_type": "error",
          "ename": "ValueError",
          "evalue": "ignored",
          "traceback": [
            "\u001b[0;31m---------------------------------------------------------------------------\u001b[0m",
            "\u001b[0;31mValueError\u001b[0m                                Traceback (most recent call last)",
            "\u001b[0;32m<ipython-input-29-7c023f92a1c8>\u001b[0m in \u001b[0;36m<module>\u001b[0;34m()\u001b[0m\n\u001b[1;32m      1\u001b[0m \u001b[0mx\u001b[0m \u001b[0;34m=\u001b[0m \u001b[0mtorch\u001b[0m\u001b[0;34m.\u001b[0m\u001b[0mrandn\u001b[0m\u001b[0;34m(\u001b[0m\u001b[0;36m2\u001b[0m\u001b[0;34m)\u001b[0m\u001b[0;34m\u001b[0m\u001b[0;34m\u001b[0m\u001b[0m\n\u001b[1;32m      2\u001b[0m \u001b[0mprint\u001b[0m\u001b[0;34m(\u001b[0m\u001b[0mx\u001b[0m\u001b[0;34m)\u001b[0m\u001b[0;34m\u001b[0m\u001b[0;34m\u001b[0m\u001b[0m\n\u001b[0;32m----> 3\u001b[0;31m \u001b[0mprint\u001b[0m\u001b[0;34m(\u001b[0m\u001b[0mx\u001b[0m\u001b[0;34m.\u001b[0m\u001b[0mitem\u001b[0m\u001b[0;34m(\u001b[0m\u001b[0;34m)\u001b[0m\u001b[0;34m)\u001b[0m\u001b[0;34m\u001b[0m\u001b[0;34m\u001b[0m\u001b[0m\n\u001b[0m\u001b[1;32m      4\u001b[0m \u001b[0mprint\u001b[0m\u001b[0;34m(\u001b[0m\u001b[0mx\u001b[0m\u001b[0;34m.\u001b[0m\u001b[0mdtype\u001b[0m\u001b[0;34m)\u001b[0m\u001b[0;34m\u001b[0m\u001b[0;34m\u001b[0m\u001b[0m\n",
            "\u001b[0;31mValueError\u001b[0m: only one element tensors can be converted to Python scalars"
          ]
        }
      ]
    },
    {
      "cell_type": "markdown",
      "metadata": {
        "id": "Ma1XWNieZSyl"
      },
      "source": [
        "#### squeeze\n",
        "- 차원을 축소(제거)"
      ]
    },
    {
      "cell_type": "code",
      "metadata": {
        "colab": {
          "base_uri": "https://localhost:8080/"
        },
        "id": "viHoBkQmbKmF",
        "outputId": "e878f0b1-3b99-40b5-fe50-1caddaecdb3e"
      },
      "source": [
        "tensor = torch.rand(1, 3, 3)\n",
        "print(tensor)\n",
        "tensor.shape"
      ],
      "execution_count": null,
      "outputs": [
        {
          "output_type": "stream",
          "name": "stdout",
          "text": [
            "tensor([[[0.5053, 0.1412, 0.2698],\n",
            "         [0.9495, 0.4886, 0.8683],\n",
            "         [0.8653, 0.3016, 0.4464]]])\n"
          ]
        },
        {
          "output_type": "execute_result",
          "data": {
            "text/plain": [
              "torch.Size([1, 3, 3])"
            ]
          },
          "metadata": {},
          "execution_count": 32
        }
      ]
    },
    {
      "cell_type": "code",
      "metadata": {
        "colab": {
          "base_uri": "https://localhost:8080/"
        },
        "id": "0CQk07SsbKpt",
        "outputId": "842e150e-10bb-4a0f-cad9-00c338082a6a"
      },
      "source": [
        "t = tensor.squeeze()\n",
        "print(t)\n",
        "print(t.shape)"
      ],
      "execution_count": null,
      "outputs": [
        {
          "output_type": "stream",
          "name": "stdout",
          "text": [
            "tensor([[0.1061, 0.8453, 0.0494],\n",
            "        [0.7425, 0.7393, 0.4664],\n",
            "        [0.7464, 0.9410, 0.1089]])\n",
            "torch.Size([3, 3])\n"
          ]
        }
      ]
    },
    {
      "cell_type": "markdown",
      "metadata": {
        "id": "foB8rl6xbrW2"
      },
      "source": [
        "#### unsqueeze\n",
        "- 차원을 증가(생성)"
      ]
    },
    {
      "cell_type": "code",
      "metadata": {
        "colab": {
          "base_uri": "https://localhost:8080/"
        },
        "id": "vNIoeSNgbKsv",
        "outputId": "1fbbf4b2-31d2-4a9e-bfc9-cb17540fe3d8"
      },
      "source": [
        "tensor = torch.rand(1, 3, 3)\n",
        "print(tensor)\n",
        "print(tensor.shape)"
      ],
      "execution_count": null,
      "outputs": [
        {
          "output_type": "stream",
          "name": "stdout",
          "text": [
            "tensor([[[0.4493, 0.7011, 0.4115],\n",
            "         [0.1104, 0.7321, 0.6606],\n",
            "         [0.7319, 0.4084, 0.4996]]])\n",
            "torch.Size([1, 3, 3])\n"
          ]
        }
      ]
    },
    {
      "cell_type": "code",
      "metadata": {
        "colab": {
          "base_uri": "https://localhost:8080/"
        },
        "id": "D8Y8t_o7bKvd",
        "outputId": "eb89dbc3-30e0-4e81-e756-4d12e2c001ec"
      },
      "source": [
        "t = tensor.unsqueeze(dim=0)\n",
        "print(t)\n",
        "print(t.shape)"
      ],
      "execution_count": null,
      "outputs": [
        {
          "output_type": "stream",
          "name": "stdout",
          "text": [
            "tensor([[[[0.4493, 0.7011, 0.4115],\n",
            "          [0.1104, 0.7321, 0.6606],\n",
            "          [0.7319, 0.4084, 0.4996]]]])\n",
            "torch.Size([1, 1, 3, 3])\n"
          ]
        }
      ]
    },
    {
      "cell_type": "markdown",
      "metadata": {
        "id": "IhpW2qBpb5Rm"
      },
      "source": [
        "#### stack\n",
        "- 텐서간 결합"
      ]
    },
    {
      "cell_type": "code",
      "metadata": {
        "colab": {
          "base_uri": "https://localhost:8080/"
        },
        "id": "p5XHkf2yb5VG",
        "outputId": "6dc218e4-28f8-4a4b-b0fa-5715a7982a5f"
      },
      "source": [
        "x = torch.FloatTensor([1, 4])\n",
        "y = torch.FloatTensor([2, 5])\n",
        "z = torch.FloatTensor([3, 6])\n",
        "\n",
        "print(torch.stack([x, y, z]))"
      ],
      "execution_count": null,
      "outputs": [
        {
          "output_type": "stream",
          "name": "stdout",
          "text": [
            "tensor([[1., 4.],\n",
            "        [2., 5.],\n",
            "        [3., 6.]])\n"
          ]
        }
      ]
    },
    {
      "cell_type": "markdown",
      "metadata": {
        "id": "W0aRFd1lb5YO"
      },
      "source": [
        "#### cat\n",
        "- 텐서를 결합하는 메소드(concatenate)\n",
        "- 넘파이의 `stack`과 유사하지만, 쌓을 dim이 존재해야함\n",
        "    - 예를 들어, 해당 차원을 늘려준 후 결합"
      ]
    },
    {
      "cell_type": "code",
      "metadata": {
        "colab": {
          "base_uri": "https://localhost:8080/"
        },
        "id": "TU1j-TKnb5bX",
        "outputId": "b4d84dad-a2b0-4cda-e2ad-bd9959ca3f96"
      },
      "source": [
        "a = torch.randn(1, 1, 3, 3)\n",
        "b = torch.randn(1, 1, 3, 3)\n",
        "c = torch.cat((a, b), dim=0)\n",
        "\n",
        "print(c)\n",
        "print(c.size())"
      ],
      "execution_count": null,
      "outputs": [
        {
          "output_type": "stream",
          "name": "stdout",
          "text": [
            "tensor([[[[-0.2923,  2.0430, -0.1426],\n",
            "          [-0.3850,  0.2610,  1.1237],\n",
            "          [-1.4018,  0.8863, -0.7099]]],\n",
            "\n",
            "\n",
            "        [[[ 0.2371, -0.4191, -2.3143],\n",
            "          [-1.1595, -1.3909,  0.8248],\n",
            "          [ 0.2405, -1.0632,  0.0067]]]])\n",
            "torch.Size([2, 1, 3, 3])\n"
          ]
        }
      ]
    },
    {
      "cell_type": "code",
      "metadata": {
        "colab": {
          "base_uri": "https://localhost:8080/"
        },
        "id": "K7eawPKwb5eW",
        "outputId": "d875e48d-b80f-489d-8b2b-0d95e42cc1c7"
      },
      "source": [
        "a = torch.randn(1, 3, 3)\n",
        "b = torch.randn(1, 3, 3)\n",
        "c = torch.cat((a, b), dim=2)\n",
        "\n",
        "print(c)\n",
        "print(c.size())"
      ],
      "execution_count": null,
      "outputs": [
        {
          "output_type": "stream",
          "name": "stdout",
          "text": [
            "tensor([[[-2.0697,  1.3026, -1.1606,  1.4602, -0.7420,  0.5580],\n",
            "         [-1.2083, -0.4265,  1.0785,  1.5325, -0.3462,  0.1130],\n",
            "         [-0.0976,  2.2121, -0.5658,  0.1557, -0.2052,  0.8370]]])\n",
            "torch.Size([1, 3, 6])\n"
          ]
        }
      ]
    },
    {
      "cell_type": "markdown",
      "metadata": {
        "id": "ZEICA-bNbKyv"
      },
      "source": [
        "#### chunk\n",
        "- 텐서를 여러 개로 나눌 때 사용\n",
        "- 몇 개의 텐서로 나눌 것이냐"
      ]
    },
    {
      "cell_type": "code",
      "metadata": {
        "colab": {
          "base_uri": "https://localhost:8080/"
        },
        "id": "Ed4PfzNXcz0-",
        "outputId": "ee3634b5-0e6c-4f77-843e-51b88b11d43e"
      },
      "source": [
        "tensor = torch.rand(3, 6)\n",
        "t1, t2, t3 = torch.chunk(tensor, 3, dim=1)\n",
        "\n",
        "print(tensor)\n",
        "print(t1)\n",
        "print(t2)\n",
        "print(t3)"
      ],
      "execution_count": null,
      "outputs": [
        {
          "output_type": "stream",
          "name": "stdout",
          "text": [
            "tensor([[0.7648, 0.7297, 0.1965, 0.7727, 0.3092, 0.8953],\n",
            "        [0.0584, 0.1341, 0.8986, 0.7202, 0.9043, 0.0023],\n",
            "        [0.5042, 0.7820, 0.8555, 0.4088, 0.2089, 0.6553]])\n",
            "tensor([[0.7648, 0.7297],\n",
            "        [0.0584, 0.1341],\n",
            "        [0.5042, 0.7820]])\n",
            "tensor([[0.1965, 0.7727],\n",
            "        [0.8986, 0.7202],\n",
            "        [0.8555, 0.4088]])\n",
            "tensor([[0.3092, 0.8953],\n",
            "        [0.9043, 0.0023],\n",
            "        [0.2089, 0.6553]])\n"
          ]
        }
      ]
    },
    {
      "cell_type": "markdown",
      "metadata": {
        "id": "E8CLY6pIc0Gd"
      },
      "source": [
        "#### split\n",
        "- `chunk`와 동일한 기능이지만 조금 다름\n",
        "- 하나의 텐서당 크기가 얼마이냐"
      ]
    },
    {
      "cell_type": "code",
      "metadata": {
        "colab": {
          "base_uri": "https://localhost:8080/"
        },
        "id": "a4r7yA5qc0Jw",
        "outputId": "faab4248-a557-47d3-ab01-fa76591ab616"
      },
      "source": [
        "tensor = torch.rand(3, 6)\n",
        "t1, t2 = torch.split(tensor, 3, dim=1)\n",
        "\n",
        "print(tensor)\n",
        "print(t1)\n",
        "print(t2)"
      ],
      "execution_count": null,
      "outputs": [
        {
          "output_type": "stream",
          "name": "stdout",
          "text": [
            "tensor([[0.0044, 0.6661, 0.6375, 0.0461, 0.0627, 0.0266],\n",
            "        [0.9675, 0.2821, 0.1412, 0.3919, 0.6007, 0.2681],\n",
            "        [0.4882, 0.1190, 0.3721, 0.1073, 0.3322, 0.0310]])\n",
            "tensor([[0.0044, 0.6661, 0.6375],\n",
            "        [0.9675, 0.2821, 0.1412],\n",
            "        [0.4882, 0.1190, 0.3721]])\n",
            "tensor([[0.0461, 0.0627, 0.0266],\n",
            "        [0.3919, 0.6007, 0.2681],\n",
            "        [0.1073, 0.3322, 0.0310]])\n"
          ]
        }
      ]
    },
    {
      "cell_type": "markdown",
      "metadata": {
        "id": "4V6DgjV3c0Mt"
      },
      "source": [
        "#### torch <-> numpy\n",
        "- Torch Tensor(텐서)를 Numpy array(배열)로 변환 가능\n",
        "    - `numpy()`\n",
        "    - `from_numpy()`\n",
        "- (참고)\n",
        "    - Tensor가 CPU상에 있다면 Numpy 배열은 메모리 공간을 공유하므로 하나가 변하면, 다른 하나도 변함"
      ]
    },
    {
      "cell_type": "code",
      "metadata": {
        "colab": {
          "base_uri": "https://localhost:8080/"
        },
        "id": "iVS-H4gKc0Pn",
        "outputId": "96cbc018-4c7f-4fb2-e733-d2a030840f87"
      },
      "source": [
        "a = torch.ones(7)\n",
        "print(a)"
      ],
      "execution_count": null,
      "outputs": [
        {
          "output_type": "stream",
          "name": "stdout",
          "text": [
            "tensor([1., 1., 1., 1., 1., 1., 1.])\n"
          ]
        }
      ]
    },
    {
      "cell_type": "code",
      "metadata": {
        "colab": {
          "base_uri": "https://localhost:8080/"
        },
        "id": "QyN6XYa0c0SX",
        "outputId": "36e77900-b711-4277-b4bb-55a58378dd9b"
      },
      "source": [
        "b = a.numpy()\n",
        "print(b)"
      ],
      "execution_count": null,
      "outputs": [
        {
          "output_type": "stream",
          "name": "stdout",
          "text": [
            "[1. 1. 1. 1. 1. 1. 1.]\n"
          ]
        }
      ]
    },
    {
      "cell_type": "code",
      "metadata": {
        "colab": {
          "base_uri": "https://localhost:8080/"
        },
        "id": "qM56GkRZbK1u",
        "outputId": "27490713-42b3-4015-ded3-d3943de6a21a"
      },
      "source": [
        "a.add_(1)  # Tensor가 CPU상에 있기 때문에 a, b 둘 다 변했다!\n",
        "print(a)\n",
        "print(b)"
      ],
      "execution_count": null,
      "outputs": [
        {
          "output_type": "stream",
          "name": "stdout",
          "text": [
            "tensor([2., 2., 2., 2., 2., 2., 2.])\n",
            "[2. 2. 2. 2. 2. 2. 2.]\n"
          ]
        }
      ]
    },
    {
      "cell_type": "code",
      "metadata": {
        "colab": {
          "base_uri": "https://localhost:8080/"
        },
        "id": "9CHpthDGbMJV",
        "outputId": "080ea645-edf8-4aa3-fb73-b7b3c96dc942"
      },
      "source": [
        "import numpy as np\n",
        "\n",
        "a = np.ones(7)\n",
        "b = torch.from_numpy(a)\n",
        "np.add(a, 1, out=a)\n",
        "print(a)\n",
        "print(b)"
      ],
      "execution_count": null,
      "outputs": [
        {
          "output_type": "stream",
          "name": "stdout",
          "text": [
            "[2. 2. 2. 2. 2. 2. 2.]\n",
            "tensor([2., 2., 2., 2., 2., 2., 2.], dtype=torch.float64)\n"
          ]
        }
      ]
    },
    {
      "cell_type": "markdown",
      "metadata": {
        "id": "2PKEHN3AeOk7"
      },
      "source": [
        "#### CUDA Tensor\n",
        "- `.to` 메소드를 사용하여 텐서를 어떠한 장치로도 옮길 수 있음\n",
        "    - 예) cpu, gpu"
      ]
    },
    {
      "cell_type": "code",
      "metadata": {
        "id": "_8kUdDP9bK_N"
      },
      "source": [
        "import torch"
      ],
      "execution_count": null,
      "outputs": []
    },
    {
      "cell_type": "code",
      "metadata": {
        "colab": {
          "base_uri": "https://localhost:8080/"
        },
        "id": "LODOXnovez43",
        "outputId": "0c94e086-1d81-412a-da73-abe6bd395787"
      },
      "source": [
        "x = torch.randn(1)\n",
        "print(x)\n",
        "print(x.item())\n",
        "print(x.dtype)"
      ],
      "execution_count": null,
      "outputs": [
        {
          "output_type": "stream",
          "name": "stdout",
          "text": [
            "tensor([-1.3242])\n",
            "-1.3242480754852295\n",
            "torch.float32\n"
          ]
        }
      ]
    },
    {
      "cell_type": "code",
      "metadata": {
        "colab": {
          "base_uri": "https://localhost:8080/"
        },
        "id": "oS3XioGbez9P",
        "outputId": "57d4534e-3e19-48ab-da95-9ab5359ed683"
      },
      "source": [
        "device = torch.device(\"cuda\" if torch.cuda.is_available() else \"cpu\")\n",
        "\n",
        "y = torch.ones_like(x, device=device)\n",
        "x = x.to(device)\n",
        "z = x + y\n",
        "print(device)\n",
        "print(z)\n",
        "print(z.to(\"cpu\", torch.double))"
      ],
      "execution_count": null,
      "outputs": [
        {
          "output_type": "stream",
          "name": "stdout",
          "text": [
            "cuda\n",
            "tensor([-0.3242], device='cuda:0')\n",
            "tensor([-0.3242], dtype=torch.float64)\n"
          ]
        }
      ]
    },
    {
      "cell_type": "markdown",
      "metadata": {
        "id": "V59Hk-pifYr9"
      },
      "source": [
        "## AUTOGRAD (자동미분)\n",
        "- autograd 패키지는 Tensor의 모든 연산에 대해 자동 미분 제공\n",
        "- 이는 코드를 어떻게 작성하여 실행하느냐에 따라 역전파가 정의된다는 뜻\n",
        "- backprop을 위한 미분값을 자동으로 계산"
      ]
    },
    {
      "cell_type": "markdown",
      "metadata": {
        "id": "GzGJnsCnzvDM"
      },
      "source": [
        "### Tensor\n",
        "- data: tensor형태의 데이터\n",
        "- grad: data가 거쳐온 layer에 대한 미분값 저장\n",
        "- grad_fn: 미분값을 계산한 함수에 대한 정보를 저장 (어떤 함수에 대해서 backprop 했는지)\n",
        "- ..."
      ]
    },
    {
      "cell_type": "code",
      "metadata": {
        "id": "-AjTUpq6gXxX"
      },
      "source": [
        ""
      ],
      "execution_count": null,
      "outputs": []
    },
    {
      "cell_type": "code",
      "metadata": {
        "id": "PKa1bAxPgX0B"
      },
      "source": [
        ""
      ],
      "execution_count": null,
      "outputs": []
    },
    {
      "cell_type": "code",
      "metadata": {
        "id": "d8HtMaU9gX3N"
      },
      "source": [
        ""
      ],
      "execution_count": null,
      "outputs": []
    },
    {
      "cell_type": "code",
      "metadata": {
        "id": "EOCUV6mhgX5z"
      },
      "source": [
        ""
      ],
      "execution_count": null,
      "outputs": []
    },
    {
      "cell_type": "code",
      "metadata": {
        "id": "-6iEvCergX8_"
      },
      "source": [
        ""
      ],
      "execution_count": null,
      "outputs": []
    },
    {
      "cell_type": "code",
      "metadata": {
        "id": "12JOvViVgX_v"
      },
      "source": [
        ""
      ],
      "execution_count": null,
      "outputs": []
    },
    {
      "cell_type": "code",
      "metadata": {
        "id": "WaGJGuP6gYC3"
      },
      "source": [
        ""
      ],
      "execution_count": null,
      "outputs": []
    },
    {
      "cell_type": "code",
      "metadata": {
        "id": "7TRqq8aPgYF2"
      },
      "source": [
        ""
      ],
      "execution_count": null,
      "outputs": []
    },
    {
      "cell_type": "code",
      "metadata": {
        "id": "7CRUo_oIgYIm"
      },
      "source": [
        ""
      ],
      "execution_count": null,
      "outputs": []
    },
    {
      "cell_type": "code",
      "metadata": {
        "id": "lihmdr-agYLC"
      },
      "source": [
        ""
      ],
      "execution_count": null,
      "outputs": []
    },
    {
      "cell_type": "code",
      "metadata": {
        "id": "yW-dGQxagYOX"
      },
      "source": [
        ""
      ],
      "execution_count": null,
      "outputs": []
    },
    {
      "cell_type": "code",
      "metadata": {
        "id": "BrmUcHWjgYQP"
      },
      "source": [
        ""
      ],
      "execution_count": null,
      "outputs": []
    }
  ]
}